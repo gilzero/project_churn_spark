{
 "cells": [
  {
   "cell_type": "markdown",
   "source": [
    "Churn"
   ],
   "metadata": {
    "collapsed": false,
    "pycharm": {
     "name": "#%% md\n"
    }
   }
  },
  {
   "cell_type": "code",
   "execution_count": 1,
   "metadata": {
    "collapsed": true
   },
   "outputs": [],
   "source": [
    "# import libraries\n",
    "import pandas as pd\n",
    "import numpy as np\n",
    "from datetime import datetime\n",
    "from datetime import timedelta\n",
    "import math\n",
    "import matplotlib.pyplot as plt"
   ]
  },
  {
   "cell_type": "code",
   "execution_count": 29,
   "metadata": {
    "pycharm": {
     "name": "#%%\n"
    }
   },
   "outputs": [
    {
     "data": {
      "text/plain": "              ts userId  sessionId      page       auth method  status level  \\\n0  1538352117000     30         29  NextSong  Logged In    PUT     200  paid   \n1  1538352180000      9          8  NextSong  Logged In    PUT     200  free   \n2  1538352394000     30         29  NextSong  Logged In    PUT     200  paid   \n3  1538352416000      9          8  NextSong  Logged In    PUT     200  free   \n4  1538352676000     30         29  NextSong  Logged In    PUT     200  paid   \n\n   itemInSession                        location  \\\n0             50                 Bakersfield, CA   \n1             79  Boston-Cambridge-Newton, MA-NH   \n2             51                 Bakersfield, CA   \n3             80  Boston-Cambridge-Newton, MA-NH   \n4             52                 Bakersfield, CA   \n\n                                           userAgent lastName firstName  \\\n0  Mozilla/5.0 (Windows NT 6.1; WOW64; rv:31.0) G...  Freeman     Colin   \n1  \"Mozilla/5.0 (Windows NT 6.1; WOW64) AppleWebK...     Long     Micah   \n2  Mozilla/5.0 (Windows NT 6.1; WOW64; rv:31.0) G...  Freeman     Colin   \n3  \"Mozilla/5.0 (Windows NT 6.1; WOW64) AppleWebK...     Long     Micah   \n4  Mozilla/5.0 (Windows NT 6.1; WOW64; rv:31.0) G...  Freeman     Colin   \n\n   registration gender            artist                           song  \\\n0  1.538173e+12      M    Martha Tilston                      Rockpools   \n1  1.538332e+12      M  Five Iron Frenzy                         Canada   \n2  1.538173e+12      M      Adam Lambert              Time For Miracles   \n3  1.538332e+12      M            Enigma    Knocking On Forbidden Doors   \n4  1.538173e+12      M         Daft Punk  Harder Better Faster Stronger   \n\n      length  \n0  277.89016  \n1  236.09424  \n2  282.82730  \n3  262.71302  \n4  223.60771  ",
      "text/html": "<div>\n<style scoped>\n    .dataframe tbody tr th:only-of-type {\n        vertical-align: middle;\n    }\n\n    .dataframe tbody tr th {\n        vertical-align: top;\n    }\n\n    .dataframe thead th {\n        text-align: right;\n    }\n</style>\n<table border=\"1\" class=\"dataframe\">\n  <thead>\n    <tr style=\"text-align: right;\">\n      <th></th>\n      <th>ts</th>\n      <th>userId</th>\n      <th>sessionId</th>\n      <th>page</th>\n      <th>auth</th>\n      <th>method</th>\n      <th>status</th>\n      <th>level</th>\n      <th>itemInSession</th>\n      <th>location</th>\n      <th>userAgent</th>\n      <th>lastName</th>\n      <th>firstName</th>\n      <th>registration</th>\n      <th>gender</th>\n      <th>artist</th>\n      <th>song</th>\n      <th>length</th>\n    </tr>\n  </thead>\n  <tbody>\n    <tr>\n      <th>0</th>\n      <td>1538352117000</td>\n      <td>30</td>\n      <td>29</td>\n      <td>NextSong</td>\n      <td>Logged In</td>\n      <td>PUT</td>\n      <td>200</td>\n      <td>paid</td>\n      <td>50</td>\n      <td>Bakersfield, CA</td>\n      <td>Mozilla/5.0 (Windows NT 6.1; WOW64; rv:31.0) G...</td>\n      <td>Freeman</td>\n      <td>Colin</td>\n      <td>1.538173e+12</td>\n      <td>M</td>\n      <td>Martha Tilston</td>\n      <td>Rockpools</td>\n      <td>277.89016</td>\n    </tr>\n    <tr>\n      <th>1</th>\n      <td>1538352180000</td>\n      <td>9</td>\n      <td>8</td>\n      <td>NextSong</td>\n      <td>Logged In</td>\n      <td>PUT</td>\n      <td>200</td>\n      <td>free</td>\n      <td>79</td>\n      <td>Boston-Cambridge-Newton, MA-NH</td>\n      <td>\"Mozilla/5.0 (Windows NT 6.1; WOW64) AppleWebK...</td>\n      <td>Long</td>\n      <td>Micah</td>\n      <td>1.538332e+12</td>\n      <td>M</td>\n      <td>Five Iron Frenzy</td>\n      <td>Canada</td>\n      <td>236.09424</td>\n    </tr>\n    <tr>\n      <th>2</th>\n      <td>1538352394000</td>\n      <td>30</td>\n      <td>29</td>\n      <td>NextSong</td>\n      <td>Logged In</td>\n      <td>PUT</td>\n      <td>200</td>\n      <td>paid</td>\n      <td>51</td>\n      <td>Bakersfield, CA</td>\n      <td>Mozilla/5.0 (Windows NT 6.1; WOW64; rv:31.0) G...</td>\n      <td>Freeman</td>\n      <td>Colin</td>\n      <td>1.538173e+12</td>\n      <td>M</td>\n      <td>Adam Lambert</td>\n      <td>Time For Miracles</td>\n      <td>282.82730</td>\n    </tr>\n    <tr>\n      <th>3</th>\n      <td>1538352416000</td>\n      <td>9</td>\n      <td>8</td>\n      <td>NextSong</td>\n      <td>Logged In</td>\n      <td>PUT</td>\n      <td>200</td>\n      <td>free</td>\n      <td>80</td>\n      <td>Boston-Cambridge-Newton, MA-NH</td>\n      <td>\"Mozilla/5.0 (Windows NT 6.1; WOW64) AppleWebK...</td>\n      <td>Long</td>\n      <td>Micah</td>\n      <td>1.538332e+12</td>\n      <td>M</td>\n      <td>Enigma</td>\n      <td>Knocking On Forbidden Doors</td>\n      <td>262.71302</td>\n    </tr>\n    <tr>\n      <th>4</th>\n      <td>1538352676000</td>\n      <td>30</td>\n      <td>29</td>\n      <td>NextSong</td>\n      <td>Logged In</td>\n      <td>PUT</td>\n      <td>200</td>\n      <td>paid</td>\n      <td>52</td>\n      <td>Bakersfield, CA</td>\n      <td>Mozilla/5.0 (Windows NT 6.1; WOW64; rv:31.0) G...</td>\n      <td>Freeman</td>\n      <td>Colin</td>\n      <td>1.538173e+12</td>\n      <td>M</td>\n      <td>Daft Punk</td>\n      <td>Harder Better Faster Stronger</td>\n      <td>223.60771</td>\n    </tr>\n  </tbody>\n</table>\n</div>"
     },
     "execution_count": 29,
     "metadata": {},
     "output_type": "execute_result"
    }
   ],
   "source": [
    "\n",
    "# Read data\n",
    "df = pd.read_json('data/mini_sparkify_event_data.json', orient='records', lines=True)\n",
    "df.head(5)"
   ]
  },
  {
   "cell_type": "code",
   "execution_count": 72,
   "outputs": [
    {
     "data": {
      "text/plain": "True"
     },
     "execution_count": 72,
     "metadata": {},
     "output_type": "execute_result"
    }
   ],
   "source": [
    "\n",
    "\n",
    "pd.to_datetime(\n",
    "    datetime.utcfromtimestamp(df.iloc[0]['registration']/1000)\n",
    ") == \\\n",
    "pd.Timestamp(datetime.utcfromtimestamp(df.iloc[0]['registration']/1000))"
   ],
   "metadata": {
    "collapsed": false,
    "pycharm": {
     "name": "#%%\n"
    }
   }
  },
  {
   "cell_type": "code",
   "execution_count": 30,
   "outputs": [],
   "source": [
    "\n",
    "\n",
    "def convert_ts(x):\n",
    "    dt = datetime.utcfromtimestamp(int(x)/1000)\n",
    "    return dt"
   ],
   "metadata": {
    "collapsed": false,
    "pycharm": {
     "name": "#%%\n"
    }
   }
  },
  {
   "cell_type": "code",
   "execution_count": 24,
   "outputs": [
    {
     "data": {
      "text/plain": "True"
     },
     "execution_count": 24,
     "metadata": {},
     "output_type": "execute_result"
    }
   ],
   "source": [
    "\n",
    "\n",
    "datetime.utcfromtimestamp(df.iloc[0]['registration']/1000) == pd.Timestamp(datetime.utcfromtimestamp(df.iloc[0]['registration']/1000))"
   ],
   "metadata": {
    "collapsed": false,
    "pycharm": {
     "name": "#%%\n"
    }
   }
  },
  {
   "cell_type": "code",
   "execution_count": 31,
   "outputs": [
    {
     "data": {
      "text/plain": "                   ts  userId  sessionId      page        auth method  status  \\\n0       1538352117000      30         29  NextSong   Logged In    PUT     200   \n1       1538352180000       9          8  NextSong   Logged In    PUT     200   \n2       1538352394000      30         29  NextSong   Logged In    PUT     200   \n3       1538352416000       9          8  NextSong   Logged In    PUT     200   \n4       1538352676000      30         29  NextSong   Logged In    PUT     200   \n...               ...     ...        ...       ...         ...    ...     ...   \n286495  1543622240000                500      Home  Logged Out    GET     200   \n286496  1543622241000                500     Login  Logged Out    PUT     307   \n286497  1543622248000  300011        500      Home   Logged In    GET     200   \n286498  1543622398000  300011        500     About   Logged In    GET     200   \n286499  1543622411000  300011        500  NextSong   Logged In    PUT     200   \n\n       level  itemInSession                               location  \\\n0       paid             50                        Bakersfield, CA   \n1       free             79         Boston-Cambridge-Newton, MA-NH   \n2       paid             51                        Bakersfield, CA   \n3       free             80         Boston-Cambridge-Newton, MA-NH   \n4       paid             52                        Bakersfield, CA   \n...      ...            ...                                    ...   \n286495  paid             41                                    NaN   \n286496  paid             42                                    NaN   \n286497  paid             43  New York-Newark-Jersey City, NY-NJ-PA   \n286498  paid             44  New York-Newark-Jersey City, NY-NJ-PA   \n286499  paid             45  New York-Newark-Jersey City, NY-NJ-PA   \n\n                                                userAgent lastName firstName  \\\n0       Mozilla/5.0 (Windows NT 6.1; WOW64; rv:31.0) G...  Freeman     Colin   \n1       \"Mozilla/5.0 (Windows NT 6.1; WOW64) AppleWebK...     Long     Micah   \n2       Mozilla/5.0 (Windows NT 6.1; WOW64; rv:31.0) G...  Freeman     Colin   \n3       \"Mozilla/5.0 (Windows NT 6.1; WOW64) AppleWebK...     Long     Micah   \n4       Mozilla/5.0 (Windows NT 6.1; WOW64; rv:31.0) G...  Freeman     Colin   \n...                                                   ...      ...       ...   \n286495                                                NaN      NaN       NaN   \n286496                                                NaN      NaN       NaN   \n286497  Mozilla/5.0 (compatible; MSIE 9.0; Windows NT ...    House    Emilia   \n286498  Mozilla/5.0 (compatible; MSIE 9.0; Windows NT ...    House    Emilia   \n286499  Mozilla/5.0 (compatible; MSIE 9.0; Windows NT ...    House    Emilia   \n\n        registration gender            artist                           song  \\\n0       1.538173e+12      M    Martha Tilston                      Rockpools   \n1       1.538332e+12      M  Five Iron Frenzy                         Canada   \n2       1.538173e+12      M      Adam Lambert              Time For Miracles   \n3       1.538332e+12      M            Enigma    Knocking On Forbidden Doors   \n4       1.538173e+12      M         Daft Punk  Harder Better Faster Stronger   \n...              ...    ...               ...                            ...   \n286495           NaN    NaN               NaN                            NaN   \n286496           NaN    NaN               NaN                            NaN   \n286497  1.538337e+12      F               NaN                            NaN   \n286498  1.538337e+12      F               NaN                            NaN   \n286499  1.538337e+12      F    Camera Obscura            The Sun On His Back   \n\n           length            datetime  \n0       277.89016 2018-10-01 00:01:57  \n1       236.09424 2018-10-01 00:03:00  \n2       282.82730 2018-10-01 00:06:34  \n3       262.71302 2018-10-01 00:06:56  \n4       223.60771 2018-10-01 00:11:16  \n...           ...                 ...  \n286495        NaN 2018-11-30 23:57:20  \n286496        NaN 2018-11-30 23:57:21  \n286497        NaN 2018-11-30 23:57:28  \n286498        NaN 2018-11-30 23:59:58  \n286499  170.89261 2018-12-01 00:00:11  \n\n[286500 rows x 19 columns]",
      "text/html": "<div>\n<style scoped>\n    .dataframe tbody tr th:only-of-type {\n        vertical-align: middle;\n    }\n\n    .dataframe tbody tr th {\n        vertical-align: top;\n    }\n\n    .dataframe thead th {\n        text-align: right;\n    }\n</style>\n<table border=\"1\" class=\"dataframe\">\n  <thead>\n    <tr style=\"text-align: right;\">\n      <th></th>\n      <th>ts</th>\n      <th>userId</th>\n      <th>sessionId</th>\n      <th>page</th>\n      <th>auth</th>\n      <th>method</th>\n      <th>status</th>\n      <th>level</th>\n      <th>itemInSession</th>\n      <th>location</th>\n      <th>userAgent</th>\n      <th>lastName</th>\n      <th>firstName</th>\n      <th>registration</th>\n      <th>gender</th>\n      <th>artist</th>\n      <th>song</th>\n      <th>length</th>\n      <th>datetime</th>\n    </tr>\n  </thead>\n  <tbody>\n    <tr>\n      <th>0</th>\n      <td>1538352117000</td>\n      <td>30</td>\n      <td>29</td>\n      <td>NextSong</td>\n      <td>Logged In</td>\n      <td>PUT</td>\n      <td>200</td>\n      <td>paid</td>\n      <td>50</td>\n      <td>Bakersfield, CA</td>\n      <td>Mozilla/5.0 (Windows NT 6.1; WOW64; rv:31.0) G...</td>\n      <td>Freeman</td>\n      <td>Colin</td>\n      <td>1.538173e+12</td>\n      <td>M</td>\n      <td>Martha Tilston</td>\n      <td>Rockpools</td>\n      <td>277.89016</td>\n      <td>2018-10-01 00:01:57</td>\n    </tr>\n    <tr>\n      <th>1</th>\n      <td>1538352180000</td>\n      <td>9</td>\n      <td>8</td>\n      <td>NextSong</td>\n      <td>Logged In</td>\n      <td>PUT</td>\n      <td>200</td>\n      <td>free</td>\n      <td>79</td>\n      <td>Boston-Cambridge-Newton, MA-NH</td>\n      <td>\"Mozilla/5.0 (Windows NT 6.1; WOW64) AppleWebK...</td>\n      <td>Long</td>\n      <td>Micah</td>\n      <td>1.538332e+12</td>\n      <td>M</td>\n      <td>Five Iron Frenzy</td>\n      <td>Canada</td>\n      <td>236.09424</td>\n      <td>2018-10-01 00:03:00</td>\n    </tr>\n    <tr>\n      <th>2</th>\n      <td>1538352394000</td>\n      <td>30</td>\n      <td>29</td>\n      <td>NextSong</td>\n      <td>Logged In</td>\n      <td>PUT</td>\n      <td>200</td>\n      <td>paid</td>\n      <td>51</td>\n      <td>Bakersfield, CA</td>\n      <td>Mozilla/5.0 (Windows NT 6.1; WOW64; rv:31.0) G...</td>\n      <td>Freeman</td>\n      <td>Colin</td>\n      <td>1.538173e+12</td>\n      <td>M</td>\n      <td>Adam Lambert</td>\n      <td>Time For Miracles</td>\n      <td>282.82730</td>\n      <td>2018-10-01 00:06:34</td>\n    </tr>\n    <tr>\n      <th>3</th>\n      <td>1538352416000</td>\n      <td>9</td>\n      <td>8</td>\n      <td>NextSong</td>\n      <td>Logged In</td>\n      <td>PUT</td>\n      <td>200</td>\n      <td>free</td>\n      <td>80</td>\n      <td>Boston-Cambridge-Newton, MA-NH</td>\n      <td>\"Mozilla/5.0 (Windows NT 6.1; WOW64) AppleWebK...</td>\n      <td>Long</td>\n      <td>Micah</td>\n      <td>1.538332e+12</td>\n      <td>M</td>\n      <td>Enigma</td>\n      <td>Knocking On Forbidden Doors</td>\n      <td>262.71302</td>\n      <td>2018-10-01 00:06:56</td>\n    </tr>\n    <tr>\n      <th>4</th>\n      <td>1538352676000</td>\n      <td>30</td>\n      <td>29</td>\n      <td>NextSong</td>\n      <td>Logged In</td>\n      <td>PUT</td>\n      <td>200</td>\n      <td>paid</td>\n      <td>52</td>\n      <td>Bakersfield, CA</td>\n      <td>Mozilla/5.0 (Windows NT 6.1; WOW64; rv:31.0) G...</td>\n      <td>Freeman</td>\n      <td>Colin</td>\n      <td>1.538173e+12</td>\n      <td>M</td>\n      <td>Daft Punk</td>\n      <td>Harder Better Faster Stronger</td>\n      <td>223.60771</td>\n      <td>2018-10-01 00:11:16</td>\n    </tr>\n    <tr>\n      <th>...</th>\n      <td>...</td>\n      <td>...</td>\n      <td>...</td>\n      <td>...</td>\n      <td>...</td>\n      <td>...</td>\n      <td>...</td>\n      <td>...</td>\n      <td>...</td>\n      <td>...</td>\n      <td>...</td>\n      <td>...</td>\n      <td>...</td>\n      <td>...</td>\n      <td>...</td>\n      <td>...</td>\n      <td>...</td>\n      <td>...</td>\n      <td>...</td>\n    </tr>\n    <tr>\n      <th>286495</th>\n      <td>1543622240000</td>\n      <td></td>\n      <td>500</td>\n      <td>Home</td>\n      <td>Logged Out</td>\n      <td>GET</td>\n      <td>200</td>\n      <td>paid</td>\n      <td>41</td>\n      <td>NaN</td>\n      <td>NaN</td>\n      <td>NaN</td>\n      <td>NaN</td>\n      <td>NaN</td>\n      <td>NaN</td>\n      <td>NaN</td>\n      <td>NaN</td>\n      <td>NaN</td>\n      <td>2018-11-30 23:57:20</td>\n    </tr>\n    <tr>\n      <th>286496</th>\n      <td>1543622241000</td>\n      <td></td>\n      <td>500</td>\n      <td>Login</td>\n      <td>Logged Out</td>\n      <td>PUT</td>\n      <td>307</td>\n      <td>paid</td>\n      <td>42</td>\n      <td>NaN</td>\n      <td>NaN</td>\n      <td>NaN</td>\n      <td>NaN</td>\n      <td>NaN</td>\n      <td>NaN</td>\n      <td>NaN</td>\n      <td>NaN</td>\n      <td>NaN</td>\n      <td>2018-11-30 23:57:21</td>\n    </tr>\n    <tr>\n      <th>286497</th>\n      <td>1543622248000</td>\n      <td>300011</td>\n      <td>500</td>\n      <td>Home</td>\n      <td>Logged In</td>\n      <td>GET</td>\n      <td>200</td>\n      <td>paid</td>\n      <td>43</td>\n      <td>New York-Newark-Jersey City, NY-NJ-PA</td>\n      <td>Mozilla/5.0 (compatible; MSIE 9.0; Windows NT ...</td>\n      <td>House</td>\n      <td>Emilia</td>\n      <td>1.538337e+12</td>\n      <td>F</td>\n      <td>NaN</td>\n      <td>NaN</td>\n      <td>NaN</td>\n      <td>2018-11-30 23:57:28</td>\n    </tr>\n    <tr>\n      <th>286498</th>\n      <td>1543622398000</td>\n      <td>300011</td>\n      <td>500</td>\n      <td>About</td>\n      <td>Logged In</td>\n      <td>GET</td>\n      <td>200</td>\n      <td>paid</td>\n      <td>44</td>\n      <td>New York-Newark-Jersey City, NY-NJ-PA</td>\n      <td>Mozilla/5.0 (compatible; MSIE 9.0; Windows NT ...</td>\n      <td>House</td>\n      <td>Emilia</td>\n      <td>1.538337e+12</td>\n      <td>F</td>\n      <td>NaN</td>\n      <td>NaN</td>\n      <td>NaN</td>\n      <td>2018-11-30 23:59:58</td>\n    </tr>\n    <tr>\n      <th>286499</th>\n      <td>1543622411000</td>\n      <td>300011</td>\n      <td>500</td>\n      <td>NextSong</td>\n      <td>Logged In</td>\n      <td>PUT</td>\n      <td>200</td>\n      <td>paid</td>\n      <td>45</td>\n      <td>New York-Newark-Jersey City, NY-NJ-PA</td>\n      <td>Mozilla/5.0 (compatible; MSIE 9.0; Windows NT ...</td>\n      <td>House</td>\n      <td>Emilia</td>\n      <td>1.538337e+12</td>\n      <td>F</td>\n      <td>Camera Obscura</td>\n      <td>The Sun On His Back</td>\n      <td>170.89261</td>\n      <td>2018-12-01 00:00:11</td>\n    </tr>\n  </tbody>\n</table>\n<p>286500 rows × 19 columns</p>\n</div>"
     },
     "execution_count": 31,
     "metadata": {},
     "output_type": "execute_result"
    }
   ],
   "source": [
    "\n",
    "\n",
    "df['datetime'] = df.ts.apply(convert_ts)\n",
    "df"
   ],
   "metadata": {
    "collapsed": false,
    "pycharm": {
     "name": "#%%\n"
    }
   }
  },
  {
   "cell_type": "code",
   "execution_count": 71,
   "outputs": [
    {
     "data": {
      "text/plain": "0             30\n1              9\n2             30\n3              9\n4             30\n           ...  \n286492    300011\n286493    300011\n286497    300011\n286498    300011\n286499    300011\nName: userId, Length: 278154, dtype: int64"
     },
     "execution_count": 71,
     "metadata": {},
     "output_type": "execute_result"
    }
   ],
   "source": [
    "\n",
    "\n",
    "# drop anonymous\n",
    "\n",
    "df = df[df['userId']!='']\n",
    "\n",
    "# convert userid type\n",
    "\n",
    "df['userId'] = df['userId'].astype('int')"
   ],
   "metadata": {
    "collapsed": false,
    "pycharm": {
     "name": "#%%\n"
    }
   }
  },
  {
   "cell_type": "code",
   "execution_count": 73,
   "outputs": [
    {
     "data": {
      "text/plain": "                   ts  userId  sessionId      page       auth method  status  \\\n0       1538352117000      30         29  NextSong  Logged In    PUT     200   \n1       1538352180000       9          8  NextSong  Logged In    PUT     200   \n2       1538352394000      30         29  NextSong  Logged In    PUT     200   \n3       1538352416000       9          8  NextSong  Logged In    PUT     200   \n4       1538352676000      30         29  NextSong  Logged In    PUT     200   \n...               ...     ...        ...       ...        ...    ...     ...   \n286492  1543622121000  300011        500  NextSong  Logged In    PUT     200   \n286493  1543622122000  300011        500    Logout  Logged In    PUT     307   \n286497  1543622248000  300011        500      Home  Logged In    GET     200   \n286498  1543622398000  300011        500     About  Logged In    GET     200   \n286499  1543622411000  300011        500  NextSong  Logged In    PUT     200   \n\n       level  itemInSession                               location  \\\n0       paid             50                        Bakersfield, CA   \n1       free             79         Boston-Cambridge-Newton, MA-NH   \n2       paid             51                        Bakersfield, CA   \n3       free             80         Boston-Cambridge-Newton, MA-NH   \n4       paid             52                        Bakersfield, CA   \n...      ...            ...                                    ...   \n286492  paid             38  New York-Newark-Jersey City, NY-NJ-PA   \n286493  paid             39  New York-Newark-Jersey City, NY-NJ-PA   \n286497  paid             43  New York-Newark-Jersey City, NY-NJ-PA   \n286498  paid             44  New York-Newark-Jersey City, NY-NJ-PA   \n286499  paid             45  New York-Newark-Jersey City, NY-NJ-PA   \n\n                                                userAgent lastName firstName  \\\n0       Mozilla/5.0 (Windows NT 6.1; WOW64; rv:31.0) G...  Freeman     Colin   \n1       \"Mozilla/5.0 (Windows NT 6.1; WOW64) AppleWebK...     Long     Micah   \n2       Mozilla/5.0 (Windows NT 6.1; WOW64; rv:31.0) G...  Freeman     Colin   \n3       \"Mozilla/5.0 (Windows NT 6.1; WOW64) AppleWebK...     Long     Micah   \n4       Mozilla/5.0 (Windows NT 6.1; WOW64; rv:31.0) G...  Freeman     Colin   \n...                                                   ...      ...       ...   \n286492  Mozilla/5.0 (compatible; MSIE 9.0; Windows NT ...    House    Emilia   \n286493  Mozilla/5.0 (compatible; MSIE 9.0; Windows NT ...    House    Emilia   \n286497  Mozilla/5.0 (compatible; MSIE 9.0; Windows NT ...    House    Emilia   \n286498  Mozilla/5.0 (compatible; MSIE 9.0; Windows NT ...    House    Emilia   \n286499  Mozilla/5.0 (compatible; MSIE 9.0; Windows NT ...    House    Emilia   \n\n        registration gender            artist  \\\n0       1.538173e+12      M    Martha Tilston   \n1       1.538332e+12      M  Five Iron Frenzy   \n2       1.538173e+12      M      Adam Lambert   \n3       1.538332e+12      M            Enigma   \n4       1.538173e+12      M         Daft Punk   \n...              ...    ...               ...   \n286492  1.538337e+12      F       Iron Maiden   \n286493  1.538337e+12      F               NaN   \n286497  1.538337e+12      F               NaN   \n286498  1.538337e+12      F               NaN   \n286499  1.538337e+12      F    Camera Obscura   \n\n                                                     song     length  \\\n0                                               Rockpools  277.89016   \n1                                                  Canada  236.09424   \n2                                       Time For Miracles  282.82730   \n3                             Knocking On Forbidden Doors  262.71302   \n4                           Harder Better Faster Stronger  223.60771   \n...                                                   ...        ...   \n286492  Murders In The Rue Morgue (1998 Digital Remaster)  258.66404   \n286493                                                NaN        NaN   \n286497                                                NaN        NaN   \n286498                                                NaN        NaN   \n286499                                The Sun On His Back  170.89261   \n\n                  datetime  \n0      2018-10-01 00:01:57  \n1      2018-10-01 00:03:00  \n2      2018-10-01 00:06:34  \n3      2018-10-01 00:06:56  \n4      2018-10-01 00:11:16  \n...                    ...  \n286492 2018-11-30 23:55:21  \n286493 2018-11-30 23:55:22  \n286497 2018-11-30 23:57:28  \n286498 2018-11-30 23:59:58  \n286499 2018-12-01 00:00:11  \n\n[278154 rows x 19 columns]",
      "text/html": "<div>\n<style scoped>\n    .dataframe tbody tr th:only-of-type {\n        vertical-align: middle;\n    }\n\n    .dataframe tbody tr th {\n        vertical-align: top;\n    }\n\n    .dataframe thead th {\n        text-align: right;\n    }\n</style>\n<table border=\"1\" class=\"dataframe\">\n  <thead>\n    <tr style=\"text-align: right;\">\n      <th></th>\n      <th>ts</th>\n      <th>userId</th>\n      <th>sessionId</th>\n      <th>page</th>\n      <th>auth</th>\n      <th>method</th>\n      <th>status</th>\n      <th>level</th>\n      <th>itemInSession</th>\n      <th>location</th>\n      <th>userAgent</th>\n      <th>lastName</th>\n      <th>firstName</th>\n      <th>registration</th>\n      <th>gender</th>\n      <th>artist</th>\n      <th>song</th>\n      <th>length</th>\n      <th>datetime</th>\n    </tr>\n  </thead>\n  <tbody>\n    <tr>\n      <th>0</th>\n      <td>1538352117000</td>\n      <td>30</td>\n      <td>29</td>\n      <td>NextSong</td>\n      <td>Logged In</td>\n      <td>PUT</td>\n      <td>200</td>\n      <td>paid</td>\n      <td>50</td>\n      <td>Bakersfield, CA</td>\n      <td>Mozilla/5.0 (Windows NT 6.1; WOW64; rv:31.0) G...</td>\n      <td>Freeman</td>\n      <td>Colin</td>\n      <td>1.538173e+12</td>\n      <td>M</td>\n      <td>Martha Tilston</td>\n      <td>Rockpools</td>\n      <td>277.89016</td>\n      <td>2018-10-01 00:01:57</td>\n    </tr>\n    <tr>\n      <th>1</th>\n      <td>1538352180000</td>\n      <td>9</td>\n      <td>8</td>\n      <td>NextSong</td>\n      <td>Logged In</td>\n      <td>PUT</td>\n      <td>200</td>\n      <td>free</td>\n      <td>79</td>\n      <td>Boston-Cambridge-Newton, MA-NH</td>\n      <td>\"Mozilla/5.0 (Windows NT 6.1; WOW64) AppleWebK...</td>\n      <td>Long</td>\n      <td>Micah</td>\n      <td>1.538332e+12</td>\n      <td>M</td>\n      <td>Five Iron Frenzy</td>\n      <td>Canada</td>\n      <td>236.09424</td>\n      <td>2018-10-01 00:03:00</td>\n    </tr>\n    <tr>\n      <th>2</th>\n      <td>1538352394000</td>\n      <td>30</td>\n      <td>29</td>\n      <td>NextSong</td>\n      <td>Logged In</td>\n      <td>PUT</td>\n      <td>200</td>\n      <td>paid</td>\n      <td>51</td>\n      <td>Bakersfield, CA</td>\n      <td>Mozilla/5.0 (Windows NT 6.1; WOW64; rv:31.0) G...</td>\n      <td>Freeman</td>\n      <td>Colin</td>\n      <td>1.538173e+12</td>\n      <td>M</td>\n      <td>Adam Lambert</td>\n      <td>Time For Miracles</td>\n      <td>282.82730</td>\n      <td>2018-10-01 00:06:34</td>\n    </tr>\n    <tr>\n      <th>3</th>\n      <td>1538352416000</td>\n      <td>9</td>\n      <td>8</td>\n      <td>NextSong</td>\n      <td>Logged In</td>\n      <td>PUT</td>\n      <td>200</td>\n      <td>free</td>\n      <td>80</td>\n      <td>Boston-Cambridge-Newton, MA-NH</td>\n      <td>\"Mozilla/5.0 (Windows NT 6.1; WOW64) AppleWebK...</td>\n      <td>Long</td>\n      <td>Micah</td>\n      <td>1.538332e+12</td>\n      <td>M</td>\n      <td>Enigma</td>\n      <td>Knocking On Forbidden Doors</td>\n      <td>262.71302</td>\n      <td>2018-10-01 00:06:56</td>\n    </tr>\n    <tr>\n      <th>4</th>\n      <td>1538352676000</td>\n      <td>30</td>\n      <td>29</td>\n      <td>NextSong</td>\n      <td>Logged In</td>\n      <td>PUT</td>\n      <td>200</td>\n      <td>paid</td>\n      <td>52</td>\n      <td>Bakersfield, CA</td>\n      <td>Mozilla/5.0 (Windows NT 6.1; WOW64; rv:31.0) G...</td>\n      <td>Freeman</td>\n      <td>Colin</td>\n      <td>1.538173e+12</td>\n      <td>M</td>\n      <td>Daft Punk</td>\n      <td>Harder Better Faster Stronger</td>\n      <td>223.60771</td>\n      <td>2018-10-01 00:11:16</td>\n    </tr>\n    <tr>\n      <th>...</th>\n      <td>...</td>\n      <td>...</td>\n      <td>...</td>\n      <td>...</td>\n      <td>...</td>\n      <td>...</td>\n      <td>...</td>\n      <td>...</td>\n      <td>...</td>\n      <td>...</td>\n      <td>...</td>\n      <td>...</td>\n      <td>...</td>\n      <td>...</td>\n      <td>...</td>\n      <td>...</td>\n      <td>...</td>\n      <td>...</td>\n      <td>...</td>\n    </tr>\n    <tr>\n      <th>286492</th>\n      <td>1543622121000</td>\n      <td>300011</td>\n      <td>500</td>\n      <td>NextSong</td>\n      <td>Logged In</td>\n      <td>PUT</td>\n      <td>200</td>\n      <td>paid</td>\n      <td>38</td>\n      <td>New York-Newark-Jersey City, NY-NJ-PA</td>\n      <td>Mozilla/5.0 (compatible; MSIE 9.0; Windows NT ...</td>\n      <td>House</td>\n      <td>Emilia</td>\n      <td>1.538337e+12</td>\n      <td>F</td>\n      <td>Iron Maiden</td>\n      <td>Murders In The Rue Morgue (1998 Digital Remaster)</td>\n      <td>258.66404</td>\n      <td>2018-11-30 23:55:21</td>\n    </tr>\n    <tr>\n      <th>286493</th>\n      <td>1543622122000</td>\n      <td>300011</td>\n      <td>500</td>\n      <td>Logout</td>\n      <td>Logged In</td>\n      <td>PUT</td>\n      <td>307</td>\n      <td>paid</td>\n      <td>39</td>\n      <td>New York-Newark-Jersey City, NY-NJ-PA</td>\n      <td>Mozilla/5.0 (compatible; MSIE 9.0; Windows NT ...</td>\n      <td>House</td>\n      <td>Emilia</td>\n      <td>1.538337e+12</td>\n      <td>F</td>\n      <td>NaN</td>\n      <td>NaN</td>\n      <td>NaN</td>\n      <td>2018-11-30 23:55:22</td>\n    </tr>\n    <tr>\n      <th>286497</th>\n      <td>1543622248000</td>\n      <td>300011</td>\n      <td>500</td>\n      <td>Home</td>\n      <td>Logged In</td>\n      <td>GET</td>\n      <td>200</td>\n      <td>paid</td>\n      <td>43</td>\n      <td>New York-Newark-Jersey City, NY-NJ-PA</td>\n      <td>Mozilla/5.0 (compatible; MSIE 9.0; Windows NT ...</td>\n      <td>House</td>\n      <td>Emilia</td>\n      <td>1.538337e+12</td>\n      <td>F</td>\n      <td>NaN</td>\n      <td>NaN</td>\n      <td>NaN</td>\n      <td>2018-11-30 23:57:28</td>\n    </tr>\n    <tr>\n      <th>286498</th>\n      <td>1543622398000</td>\n      <td>300011</td>\n      <td>500</td>\n      <td>About</td>\n      <td>Logged In</td>\n      <td>GET</td>\n      <td>200</td>\n      <td>paid</td>\n      <td>44</td>\n      <td>New York-Newark-Jersey City, NY-NJ-PA</td>\n      <td>Mozilla/5.0 (compatible; MSIE 9.0; Windows NT ...</td>\n      <td>House</td>\n      <td>Emilia</td>\n      <td>1.538337e+12</td>\n      <td>F</td>\n      <td>NaN</td>\n      <td>NaN</td>\n      <td>NaN</td>\n      <td>2018-11-30 23:59:58</td>\n    </tr>\n    <tr>\n      <th>286499</th>\n      <td>1543622411000</td>\n      <td>300011</td>\n      <td>500</td>\n      <td>NextSong</td>\n      <td>Logged In</td>\n      <td>PUT</td>\n      <td>200</td>\n      <td>paid</td>\n      <td>45</td>\n      <td>New York-Newark-Jersey City, NY-NJ-PA</td>\n      <td>Mozilla/5.0 (compatible; MSIE 9.0; Windows NT ...</td>\n      <td>House</td>\n      <td>Emilia</td>\n      <td>1.538337e+12</td>\n      <td>F</td>\n      <td>Camera Obscura</td>\n      <td>The Sun On His Back</td>\n      <td>170.89261</td>\n      <td>2018-12-01 00:00:11</td>\n    </tr>\n  </tbody>\n</table>\n<p>278154 rows × 19 columns</p>\n</div>"
     },
     "execution_count": 73,
     "metadata": {},
     "output_type": "execute_result"
    }
   ],
   "source": [
    "df"
   ],
   "metadata": {
    "collapsed": false,
    "pycharm": {
     "name": "#%%\n"
    }
   }
  },
  {
   "cell_type": "code",
   "execution_count": 75,
   "outputs": [
    {
     "data": {
      "text/plain": "0        2018-09-28 22:22:42\n1        2018-09-30 18:20:30\n2        2018-09-28 22:22:42\n3        2018-09-30 18:20:30\n4        2018-09-28 22:22:42\n                 ...        \n286492   2018-09-30 19:46:11\n286493   2018-09-30 19:46:11\n286497   2018-09-30 19:46:11\n286498   2018-09-30 19:46:11\n286499   2018-09-30 19:46:11\nName: reg, Length: 278154, dtype: datetime64[ns]"
     },
     "execution_count": 75,
     "metadata": {},
     "output_type": "execute_result"
    }
   ],
   "source": [
    "df['reg'] = df['registration'].apply(convert_ts)\n",
    "\n",
    "df['reg']"
   ],
   "metadata": {
    "collapsed": false,
    "pycharm": {
     "name": "#%%\n"
    }
   }
  },
  {
   "cell_type": "code",
   "execution_count": 78,
   "outputs": [
    {
     "data": {
      "text/plain": "ts                        int64\nuserId                    int64\nsessionId                 int64\npage                     object\nauth                     object\nmethod                   object\nstatus                    int64\nlevel                    object\nitemInSession             int64\nlocation                 object\nuserAgent                object\nlastName                 object\nfirstName                object\nregistration            float64\ngender                   object\nartist                   object\nsong                     object\nlength                  float64\ndatetime         datetime64[ns]\nreg              datetime64[ns]\ndtype: object"
     },
     "execution_count": 78,
     "metadata": {},
     "output_type": "execute_result"
    }
   ],
   "source": [
    "df.dtypes"
   ],
   "metadata": {
    "collapsed": false,
    "pycharm": {
     "name": "#%%\n"
    }
   }
  },
  {
   "cell_type": "code",
   "execution_count": 80,
   "outputs": [
    {
     "data": {
      "text/plain": "\"Mozilla/5.0 (Windows NT 6.1; WOW64) AppleWebKit/537.36 (KHTML, like Gecko) Chrome/36.0.1985.143 Safari/537.36\"                                22751\n\"Mozilla/5.0 (Macintosh; Intel Mac OS X 10_9_4) AppleWebKit/537.77.4 (KHTML, like Gecko) Version/7.0.5 Safari/537.77.4\"                        19611\n\"Mozilla/5.0 (Macintosh; Intel Mac OS X 10_9_4) AppleWebKit/537.36 (KHTML, like Gecko) Chrome/36.0.1985.125 Safari/537.36\"                     18448\n\"Mozilla/5.0 (Macintosh; Intel Mac OS X 10_9_4) AppleWebKit/537.36 (KHTML, like Gecko) Chrome/36.0.1985.143 Safari/537.36\"                     17348\nMozilla/5.0 (Windows NT 6.1; WOW64; rv:31.0) Gecko/20100101 Firefox/31.0                                                                       16700\n\"Mozilla/5.0 (Windows NT 6.1; WOW64) AppleWebKit/537.36 (KHTML, like Gecko) Chrome/36.0.1985.125 Safari/537.36\"                                15395\n\"Mozilla/5.0 (Windows NT 6.1; WOW64) AppleWebKit/537.36 (KHTML, like Gecko) Chrome/37.0.2062.103 Safari/537.36\"                                14598\nMozilla/5.0 (Macintosh; Intel Mac OS X 10.9; rv:31.0) Gecko/20100101 Firefox/31.0                                                              10300\n\"Mozilla/5.0 (iPad; CPU OS 7_1_2 like Mac OS X) AppleWebKit/537.51.2 (KHTML, like Gecko) Version/7.0 Mobile/11D257 Safari/9537.53\"              8912\nMozilla/5.0 (compatible; MSIE 9.0; Windows NT 6.1; WOW64; Trident/5.0)                                                                          8624\n\"Mozilla/5.0 (Macintosh; Intel Mac OS X 10_9_4) AppleWebKit/537.78.2 (KHTML, like Gecko) Version/7.0.6 Safari/537.78.2\"                         8094\n\"Mozilla/5.0 (Windows NT 6.1) AppleWebKit/537.36 (KHTML, like Gecko) Chrome/36.0.1985.143 Safari/537.36\"                                        7923\n\"Mozilla/5.0 (Macintosh; Intel Mac OS X 10_9_4) AppleWebKit/537.36 (KHTML, like Gecko) Chrome/37.0.2062.94 Safari/537.36\"                       7906\n\"Mozilla/5.0 (Windows NT 6.3; WOW64) AppleWebKit/537.36 (KHTML, like Gecko) Chrome/36.0.1985.143 Safari/537.36\"                                 7624\n\"Mozilla/5.0 (iPhone; CPU iPhone OS 7_1_2 like Mac OS X) AppleWebKit/537.51.2 (KHTML, like Gecko) Version/7.0 Mobile/11D257 Safari/9537.53\"     6417\nMozilla/5.0 (Windows NT 6.3; WOW64; rv:31.0) Gecko/20100101 Firefox/31.0                                                                        5989\n\"Mozilla/5.0 (Macintosh; Intel Mac OS X 10_10) AppleWebKit/600.1.8 (KHTML, like Gecko) Version/8.0 Safari/600.1.8\"                              5716\n\"Mozilla/5.0 (Windows NT 5.1) AppleWebKit/537.36 (KHTML, like Gecko) Chrome/36.0.1985.143 Safari/537.36\"                                        5238\n\"Mozilla/5.0 (Windows NT 6.3; WOW64) AppleWebKit/537.36 (KHTML, like Gecko) Chrome/36.0.1985.125 Safari/537.36\"                                 4917\nMozilla/5.0 (Windows NT 6.1; WOW64; Trident/7.0; rv:11.0) like Gecko                                                                            4663\n\"Mozilla/5.0 (Windows NT 6.1; WOW64) AppleWebKit/537.36 (KHTML, like Gecko) Chrome/37.0.2062.94 Safari/537.36\"                                  4103\nMozilla/5.0 (Windows NT 6.1; WOW64; rv:32.0) Gecko/20100101 Firefox/32.0                                                                        3655\nMozilla/5.0 (Windows NT 6.1; WOW64; rv:30.0) Gecko/20100101 Firefox/30.0                                                                        3214\n\"Mozilla/5.0 (Windows NT 6.2; WOW64) AppleWebKit/537.36 (KHTML, like Gecko) Chrome/36.0.1985.125 Safari/537.36\"                                 2868\n\"Mozilla/5.0 (X11; Linux x86_64) AppleWebKit/537.36 (KHTML, like Gecko) Chrome/36.0.1985.143 Safari/537.36\"                                     2842\n\"Mozilla/5.0 (Macintosh; Intel Mac OS X 10_9_2) AppleWebKit/537.36 (KHTML, like Gecko) Chrome/36.0.1985.125 Safari/537.36\"                      2804\n\"Mozilla/5.0 (iPhone; CPU iPhone OS 7_1 like Mac OS X) AppleWebKit/537.51.2 (KHTML, like Gecko) Version/7.0 Mobile/11D167 Safari/9537.53\"       2799\nMozilla/5.0 (X11; Linux x86_64; rv:31.0) Gecko/20100101 Firefox/31.0                                                                            2544\n\"Mozilla/5.0 (iPad; CPU OS 7_1_1 like Mac OS X) AppleWebKit/537.51.2 (KHTML, like Gecko) Version/7.0 Mobile/11D201 Safari/9537.53\"              2469\nMozilla/5.0 (Windows NT 6.0; rv:31.0) Gecko/20100101 Firefox/31.0                                                                               2442\nMozilla/5.0 (Macintosh; Intel Mac OS X 10.7; rv:31.0) Gecko/20100101 Firefox/31.0                                                               2442\n\"Mozilla/5.0 (Windows NT 6.1; WOW64) AppleWebKit/537.36 (KHTML, like Gecko) Chrome/35.0.1916.153 Safari/537.36\"                                 2174\n\"Mozilla/5.0 (Windows NT 5.1) AppleWebKit/537.36 (KHTML, like Gecko) Chrome/36.0.1985.125 Safari/537.36\"                                        2168\nMozilla/5.0 (Windows NT 6.2; WOW64; rv:31.0) Gecko/20100101 Firefox/31.0                                                                        2149\n\"Mozilla/5.0 (Windows NT 6.1) AppleWebKit/537.36 (KHTML, like Gecko) Chrome/36.0.1985.125 Safari/537.36\"                                        2132\n\"Mozilla/5.0 (Macintosh; Intel Mac OS X 10_9_3) AppleWebKit/537.76.4 (KHTML, like Gecko) Version/7.0.4 Safari/537.76.4\"                         2067\n\"Mozilla/5.0 (iPhone; CPU iPhone OS 7_1_1 like Mac OS X) AppleWebKit/537.51.2 (KHTML, like Gecko) Version/7.0 Mobile/11D201 Safari/9537.53\"     1976\nMozilla/5.0 (Macintosh; Intel Mac OS X 10.8; rv:31.0) Gecko/20100101 Firefox/31.0                                                               1950\nMozilla/5.0 (X11; Ubuntu; Linux x86_64; rv:31.0) Gecko/20100101 Firefox/31.0                                                                    1874\n\"Mozilla/5.0 (X11; Linux x86_64) AppleWebKit/537.36 (KHTML, like Gecko) Chrome/36.0.1985.125 Safari/537.36\"                                     1639\n\"Mozilla/5.0 (Macintosh; Intel Mac OS X 10_10) AppleWebKit/600.1.3 (KHTML, like Gecko) Version/8.0 Safari/600.1.3\"                              1322\n\"Mozilla/5.0 (Macintosh; Intel Mac OS X 10_9_4) AppleWebKit/537.36 (KHTML, like Gecko) Chrome/35.0.1916.153 Safari/537.36\"                      1262\nMozilla/5.0 (compatible; MSIE 9.0; Windows NT 6.1; Trident/5.0)                                                                                 1245\n\"Mozilla/5.0 (Macintosh; Intel Mac OS X 10_9_2) AppleWebKit/537.74.9 (KHTML, like Gecko) Version/7.0.2 Safari/537.74.9\"                         1102\nMozilla/5.0 (Windows NT 6.1; WOW64; rv:24.0) Gecko/20100101 Firefox/24.0                                                                        1102\nMozilla/5.0 (Windows NT 6.1; rv:31.0) Gecko/20100101 Firefox/31.0                                                                                972\nMozilla/5.0 (compatible; MSIE 10.0; Windows NT 6.1; WOW64; Trident/6.0)                                                                          815\n\"Mozilla/5.0 (Macintosh; Intel Mac OS X 10_7_5) AppleWebKit/537.77.4 (KHTML, like Gecko) Version/6.1.5 Safari/537.77.4\"                          573\n\"Mozilla/5.0 (Macintosh; Intel Mac OS X 10_9_2) AppleWebKit/537.75.14 (KHTML, like Gecko) Version/7.0.3 Safari/537.75.14\"                        512\n\"Mozilla/5.0 (Windows NT 6.2; WOW64) AppleWebKit/537.36 (KHTML, like Gecko) Chrome/36.0.1985.143 Safari/537.36\"                                  410\n\"Mozilla/5.0 (Macintosh; Intel Mac OS X 10_7_5) AppleWebKit/537.36 (KHTML, like Gecko) Chrome/36.0.1985.125 Safari/537.36\"                       379\nMozilla/5.0 (Macintosh; Intel Mac OS X 10.6; rv:31.0) Gecko/20100101 Firefox/31.0                                                                251\n\"Mozilla/5.0 (Macintosh; Intel Mac OS X 10_8_5) AppleWebKit/537.36 (KHTML, like Gecko) Chrome/36.0.1985.143 Safari/537.36\"                       240\n\"Mozilla/5.0 (Macintosh; Intel Mac OS X 10_8_5) AppleWebKit/537.36 (KHTML, like Gecko) Chrome/37.0.2062.94 Safari/537.36\"                        235\n\"Mozilla/5.0 (Macintosh; Intel Mac OS X 10_6_8) AppleWebKit/537.36 (KHTML, like Gecko) Chrome/36.0.1985.143 Safari/537.36\"                       187\nMozilla/5.0 (X11; Ubuntu; Linux i686; rv:31.0) Gecko/20100101 Firefox/31.0                                                                        62\nName: userAgent, dtype: int64"
     },
     "execution_count": 80,
     "metadata": {},
     "output_type": "execute_result"
    }
   ],
   "source": [
    "df['userAgent'].value_counts()"
   ],
   "metadata": {
    "collapsed": false,
    "pycharm": {
     "name": "#%%\n"
    }
   }
  },
  {
   "cell_type": "code",
   "execution_count": 84,
   "outputs": [
    {
     "data": {
      "text/plain": "F    0.555728\nM    0.444272\nName: gender, dtype: float64"
     },
     "execution_count": 84,
     "metadata": {},
     "output_type": "execute_result"
    }
   ],
   "source": [
    "df['gender'].value_counts() / df['gender'].value_counts().sum()"
   ],
   "metadata": {
    "collapsed": false,
    "pycharm": {
     "name": "#%%\n"
    }
   }
  },
  {
   "cell_type": "code",
   "execution_count": 87,
   "outputs": [
    {
     "data": {
      "text/plain": "200    0.915745\n307    0.083350\n404    0.000906\nName: status, dtype: float64"
     },
     "execution_count": 87,
     "metadata": {},
     "output_type": "execute_result"
    }
   ],
   "source": [
    "df['status'].value_counts() / df['status'].value_counts().sum()"
   ],
   "metadata": {
    "collapsed": false,
    "pycharm": {
     "name": "#%%\n"
    }
   }
  },
  {
   "cell_type": "code",
   "execution_count": 155,
   "outputs": [
    {
     "data": {
      "text/plain": "225"
     },
     "execution_count": 155,
     "metadata": {},
     "output_type": "execute_result"
    }
   ],
   "source": [
    "n_users = df['userId'].nunique()\n",
    "n_users"
   ],
   "metadata": {
    "collapsed": false,
    "pycharm": {
     "name": "#%%\n"
    }
   }
  },
  {
   "cell_type": "code",
   "execution_count": 110,
   "outputs": [
    {
     "data": {
      "text/plain": "userId\n2          899\n3          254\n4         2442\n5          218\n6         3761\n          ... \n300021    4659\n300022     446\n300023    2210\n300024     102\n300025    1603\nLength: 225, dtype: int64"
     },
     "execution_count": 110,
     "metadata": {},
     "output_type": "execute_result"
    }
   ],
   "source": [
    "df.groupby(['userId']).size()"
   ],
   "metadata": {
    "collapsed": false,
    "pycharm": {
     "name": "#%%\n"
    }
   }
  },
  {
   "cell_type": "code",
   "execution_count": 114,
   "outputs": [
    {
     "data": {
      "text/plain": "165"
     },
     "execution_count": 114,
     "metadata": {},
     "output_type": "execute_result"
    }
   ],
   "source": [
    "df[df['level'] == 'paid']['userId'].nunique()"
   ],
   "metadata": {
    "collapsed": false,
    "pycharm": {
     "name": "#%%\n"
    }
   }
  },
  {
   "cell_type": "code",
   "execution_count": 115,
   "outputs": [
    {
     "data": {
      "text/plain": "195"
     },
     "execution_count": 115,
     "metadata": {},
     "output_type": "execute_result"
    }
   ],
   "source": [
    "df[df['level'] == 'free']['userId'].nunique()"
   ],
   "metadata": {
    "collapsed": false,
    "pycharm": {
     "name": "#%%\n"
    }
   }
  },
  {
   "cell_type": "code",
   "execution_count": 146,
   "outputs": [
    {
     "data": {
      "text/plain": "[39,\n 92,\n 140,\n 300011,\n 124,\n 300021,\n 300017,\n 42,\n 85,\n 6,\n 29,\n 300015,\n 9,\n 100,\n 91,\n 54,\n 126,\n 118,\n 74,\n 51,\n 98,\n 136,\n 65,\n 4,\n 81,\n 15,\n 132,\n 142,\n 41,\n 138,\n 88,\n 300023,\n 200004,\n 127,\n 101,\n 300001,\n 300018,\n 128,\n 200008,\n 115,\n 96,\n 97,\n 60,\n 58,\n 300002,\n 62,\n 20,\n 25,\n 120,\n 113,\n 104,\n 131,\n 200023,\n 300009,\n 300008,\n 70,\n 53,\n 37,\n 45,\n 33,\n 300025,\n 82,\n 38,\n 14,\n 152,\n 114,\n 145,\n 69,\n 95,\n 61,\n 200021,\n 28,\n 83,\n 77,\n 153,\n 67,\n 100013,\n 103,\n 17,\n 52,\n 35,\n 46,\n 300019,\n 75,\n 40,\n 141,\n 49,\n 2,\n 105,\n 106,\n 100008,\n 36,\n 155,\n 66,\n 10,\n 109,\n 300012,\n 300016,\n 111,\n 100018,\n 89,\n 59,\n 30,\n 16,\n 12,\n 86,\n 23,\n 21,\n 121,\n 108,\n 100004,\n 200009,\n 100016,\n 56,\n 100007,\n 18,\n 44,\n 99,\n 147,\n 100023,\n 13,\n 300022,\n 73,\n 200025,\n 200019,\n 139,\n 100025,\n 300013,\n 200017,\n 100015,\n 129,\n 200011,\n 200002,\n 300014,\n 200020,\n 300005,\n 100009,\n 100014,\n 300020,\n 19,\n 100012,\n 3,\n 93,\n 71,\n 11,\n 100002,\n 200024,\n 200014,\n 151,\n 50,\n 200003,\n 300006,\n 87,\n 300004,\n 300007,\n 24,\n 300024,\n 200005,\n 55,\n 79,\n 200007,\n 137,\n 32,\n 122,\n 26]"
     },
     "execution_count": 146,
     "metadata": {},
     "output_type": "execute_result"
    }
   ],
   "source": [
    "subscriber_user_ids = df[df['level'] == 'paid']['userId'].value_counts().index.to_list()\n",
    "subscriber_user_ids"
   ],
   "metadata": {
    "collapsed": false,
    "pycharm": {
     "name": "#%%\n"
    }
   }
  },
  {
   "cell_type": "code",
   "execution_count": 137,
   "outputs": [
    {
     "data": {
      "text/plain": "[100022,\n 146,\n 200006,\n 148,\n 200018,\n 80,\n 200022,\n 117,\n 100010,\n 300010,\n 200015,\n 8,\n 78,\n 100021,\n 200010,\n 107,\n 112,\n 27,\n 76,\n 200016,\n 47,\n 43,\n 149,\n 110,\n 150,\n 119,\n 5,\n 100005,\n 102,\n 7,\n 123,\n 94,\n 100001,\n 200001,\n 143,\n 144,\n 154,\n 72,\n 57,\n 63,\n 84,\n 100019,\n 200012,\n 116,\n 100003,\n 100017,\n 34,\n 64,\n 134,\n 68,\n 90,\n 100006,\n 133,\n 22,\n 100024,\n 300003,\n 100011,\n 125,\n 156,\n 135]"
     },
     "execution_count": 137,
     "metadata": {},
     "output_type": "execute_result"
    }
   ],
   "source": [
    "free_user_ids = df[~df['userId'].isin(subscriber_user_ids)]['userId'].value_counts().index.to_list()\n",
    "free_user_ids"
   ],
   "metadata": {
    "collapsed": false,
    "pycharm": {
     "name": "#%%\n"
    }
   }
  },
  {
   "cell_type": "code",
   "execution_count": 147,
   "outputs": [
    {
     "data": {
      "text/plain": "225"
     },
     "execution_count": 147,
     "metadata": {},
     "output_type": "execute_result"
    }
   ],
   "source": [
    "len(free_user_ids) + len(subscriber_user_ids)"
   ],
   "metadata": {
    "collapsed": false,
    "pycharm": {
     "name": "#%%\n"
    }
   }
  },
  {
   "cell_type": "code",
   "execution_count": 142,
   "outputs": [
    {
     "data": {
      "text/plain": "Logged In    278102\nCancelled        52\nName: auth, dtype: int64"
     },
     "execution_count": 142,
     "metadata": {},
     "output_type": "execute_result"
    }
   ],
   "source": [
    "df['auth'].value_counts()"
   ],
   "metadata": {
    "collapsed": false,
    "pycharm": {
     "name": "#%%\n"
    }
   }
  },
  {
   "cell_type": "code",
   "execution_count": 153,
   "outputs": [
    {
     "data": {
      "text/plain": "[18,\n 32,\n 100003,\n 100023,\n 100005,\n 100017,\n 100025,\n 100009,\n 100012,\n 100013,\n 100022,\n 100014,\n 100015,\n 100021,\n 100007,\n 200001,\n 200024,\n 200011,\n 200021,\n 200018,\n 200015,\n 200017,\n 200016,\n 200020,\n 300007,\n 100019,\n 100006,\n 100024,\n 12,\n 125,\n 105,\n 17,\n 143,\n 101,\n 129,\n 121,\n 51,\n 87,\n 122,\n 58,\n 100001,\n 73,\n 3,\n 106,\n 103,\n 28,\n 54,\n 29,\n 70,\n 53,\n 100011,\n 300001]"
     },
     "execution_count": 153,
     "metadata": {},
     "output_type": "execute_result"
    }
   ],
   "source": [
    "churn_user_ids = df[df['auth']=='Cancelled']['userId'].value_counts().index.to_list()\n",
    "churn_user_ids"
   ],
   "metadata": {
    "collapsed": false,
    "pycharm": {
     "name": "#%%\n"
    }
   }
  },
  {
   "cell_type": "code",
   "execution_count": 163,
   "outputs": [
    {
     "data": {
      "text/plain": "level\nfree    21\npaid    31\ndtype: int64"
     },
     "execution_count": 163,
     "metadata": {},
     "output_type": "execute_result"
    }
   ],
   "source": [
    "df[df['auth']=='Cancelled'].groupby('level').size()"
   ],
   "metadata": {
    "collapsed": false,
    "pycharm": {
     "name": "#%%\n"
    }
   }
  },
  {
   "cell_type": "code",
   "execution_count": 157,
   "outputs": [
    {
     "data": {
      "text/plain": "0.2311111111111111"
     },
     "execution_count": 157,
     "metadata": {},
     "output_type": "execute_result"
    }
   ],
   "source": [
    "# overall churn.\n",
    "# total number of churn users / total number of users\n",
    "\n",
    "len(churn_user_ids) / n_users"
   ],
   "metadata": {
    "collapsed": false,
    "pycharm": {
     "name": "#%%\n"
    }
   }
  },
  {
   "cell_type": "code",
   "execution_count": 164,
   "outputs": [
    {
     "data": {
      "text/plain": "0.35"
     },
     "execution_count": 164,
     "metadata": {},
     "output_type": "execute_result"
    }
   ],
   "source": [
    "# free users churn\n",
    "# total number of churn users who are 'free-tier' / total number of free users\n",
    "\n",
    "df[df['auth']=='Cancelled'].groupby('level').size()['free'] / len(free_user_ids)"
   ],
   "metadata": {
    "collapsed": false,
    "pycharm": {
     "name": "#%%\n"
    }
   }
  },
  {
   "cell_type": "code",
   "execution_count": 165,
   "outputs": [
    {
     "data": {
      "text/plain": "0.18787878787878787"
     },
     "execution_count": 165,
     "metadata": {},
     "output_type": "execute_result"
    }
   ],
   "source": [
    "# paid users churn\n",
    "# total number of churn users who are subscriber 'paid-tier' / total number of subscriber users\n",
    "\n",
    "df[df['auth']=='Cancelled'].groupby('level').size()['paid'] / len(subscriber_user_ids)"
   ],
   "metadata": {
    "collapsed": false,
    "pycharm": {
     "name": "#%%\n"
    }
   }
  }
 ],
 "metadata": {
  "kernelspec": {
   "display_name": "Python 3 (ipykernel)",
   "language": "python",
   "name": "python3"
  },
  "language_info": {
   "codemirror_mode": {
    "name": "ipython",
    "version": 3
   },
   "file_extension": ".py",
   "mimetype": "text/x-python",
   "name": "python",
   "nbconvert_exporter": "python",
   "pygments_lexer": "ipython3",
   "version": "3.9.7"
  }
 },
 "nbformat": 4,
 "nbformat_minor": 1
}